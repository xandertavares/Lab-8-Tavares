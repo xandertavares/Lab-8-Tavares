{
 "cells": [
  {
   "cell_type": "code",
   "execution_count": null,
   "metadata": {
    "tags": [
     "skip-execution"
    ]
   },
   "outputs": [],
   "source": [
    "%%capture\n",
    "# OTTER IGNORE\n",
    "! pip install drexel-jupyter-logger\n",
    "! pip install otter-grader"
   ]
  },
  {
   "cell_type": "code",
   "execution_count": null,
   "metadata": {
    "deletable": false,
    "editable": false,
    "tags": [
     "skip-execution"
    ]
   },
   "outputs": [],
   "source": [
    "# Initialize Otter\n",
    "import otter\n",
    "grader = otter.Notebook(\"lab8-pollutant.ipynb\")"
   ]
  },
  {
   "cell_type": "markdown",
   "metadata": {},
   "source": [
    "# 🧪🖥️ Lab 8: Pollutant Triangulation\n",
    "\n",
    "This lab uses classes to solve a problem involving pollutant triangulation."
   ]
  },
  {
   "cell_type": "code",
   "execution_count": null,
   "metadata": {
    "tags": [
     "skip-execution"
    ]
   },
   "outputs": [
    {
     "ename": "ModuleNotFoundError",
     "evalue": "No module named 'drexel_jupyter_logger'",
     "output_type": "error",
     "traceback": [
      "\u001b[0;31m---------------------------------------------------------------------------\u001b[0m",
      "\u001b[0;31mModuleNotFoundError\u001b[0m                       Traceback (most recent call last)",
      "Cell \u001b[0;32mIn[11], line 1\u001b[0m\n\u001b[0;32m----> 1\u001b[0m \u001b[38;5;28;01mimport\u001b[39;00m \u001b[38;5;21;01mdrexel_jupyter_logger\u001b[39;00m\n\u001b[1;32m      2\u001b[0m \u001b[38;5;28;01mimport\u001b[39;00m \u001b[38;5;21;01mmatplotlib\u001b[39;00m\u001b[38;5;21;01m.\u001b[39;00m\u001b[38;5;21;01mpyplot\u001b[39;00m \u001b[38;5;28;01mas\u001b[39;00m \u001b[38;5;21;01mplt\u001b[39;00m\n\u001b[1;32m      3\u001b[0m \u001b[38;5;28;01mimport\u001b[39;00m \u001b[38;5;21;01mnumpy\u001b[39;00m \u001b[38;5;28;01mas\u001b[39;00m \u001b[38;5;21;01mnp\u001b[39;00m\n",
      "\u001b[0;31mModuleNotFoundError\u001b[0m: No module named 'drexel_jupyter_logger'"
     ]
    }
   ],
   "source": [
    "import drexel_jupyter_logger\n",
    "import matplotlib.pyplot as plt\n",
    "import numpy as np\n",
    "# import IPython.display as ipd"
   ]
  },
  {
   "cell_type": "markdown",
   "metadata": {
    "deletable": false,
    "editable": false
   },
   "source": [
    "## Use triangulation to locate pollutant source\n",
    "\n",
    "Triangulation, such as used in GPS positioning uses three points and two distances to calculate the location of an unknown point.\n",
    "\n",
    "Now, let's suppose that the unknown point is actually a point source for some pollutant X, and at time 0 it\n",
    "releases a burst of Chemical X. Assume no wind, and that X diffuses freely from its release point. \n",
    "\n",
    "Suppose that we have measurement devices at the three points 1, 2, and 3 that track the concentration of X as a function of time, and that the concentration of X is detected to peak at times $t_1$, $t_2$, and $t_3$, at each point, respectively. Can we determine the location of the pollutant point source?"
   ]
  },
  {
   "cell_type": "markdown",
   "metadata": {
    "deletable": false,
    "editable": false
   },
   "source": [
    "## Task 1: Make a class for point in pollutant system\n",
    "\n",
    "In this system, we have collected data at points $(x_1,y_1)$, $(x_2,y_2)$, and $(x_3,y_3)$, at times $t_1$, $t_2$, and $t_3$ respectively. We would like to encapsulate this data, and find a way to extract distance using the diffusivity of $X$ $(D_X)$.\n",
    "\n",
    "Let's make the assumption that the time intervals $(t_i)$ scale with the square of the distance $(d_i)$ divided by the diffusivity of $X$ $(D_X)$:\n",
    "\n",
    "$$ t_i ~ \\frac{d_i^2}{D_X} $$\n",
    "\n",
    "We can express the diffusivity using the following diffusion constant:\n",
    "\n",
    "$$ K = \\sqrt{D_X} $$\n",
    "\n",
    "That satisfies the conditions\n",
    "\n",
    "$$ d_1 = K\\sqrt{t_1} $$\n",
    "\n",
    "$$ d_2 = K\\sqrt{t_2} $$\n",
    "\n",
    "$$ d_3 = K\\sqrt{t_3} $$\n",
    "\n",
    "Write python code to do the following:\n",
    "\n",
    "* Define a class called `Point`\n",
    "* Define the class constructor to accept as argument the floats `x,y,t`, in that order. Make sure your parameters are in the right order! Store each value in a data member, so that they can be used in other methods. \n",
    "* Define a method called `diffusion_distance` which accepts as input the constant `K`, and returns the distance calculated using the Point member `self.t`.\n",
    "\n",
    "Your code replaces the prompt:  `...`"
   ]
  },
  {
   "cell_type": "code",
   "execution_count": null,
   "metadata": {
    "tags": [
     "skip-execution"
    ]
   },
   "outputs": [
    {
     "name": "stdout",
     "output_type": "stream",
     "text": [
      "Members of P1: (0,1,1)\n",
      "Calculate diffusion distance of P1: 1.5811388300841898\n"
     ]
    },
    {
     "ename": "NameError",
     "evalue": "name 'plt' is not defined",
     "output_type": "error",
     "traceback": [
      "\u001b[0;31m---------------------------------------------------------------------------\u001b[0m",
      "\u001b[0;31mNameError\u001b[0m                                 Traceback (most recent call last)",
      "Cell \u001b[0;32mIn[15], line 21\u001b[0m\n\u001b[1;32m     18\u001b[0m \u001b[38;5;28mprint\u001b[39m(\u001b[38;5;124m'\u001b[39m\u001b[38;5;124mCalculate diffusion distance of P1:\u001b[39m\u001b[38;5;124m'\u001b[39m, dist1)\n\u001b[1;32m     20\u001b[0m \u001b[38;5;66;03m# Plot P1,P2,P3\u001b[39;00m\n\u001b[0;32m---> 21\u001b[0m \u001b[43mplt\u001b[49m\u001b[38;5;241m.\u001b[39mclf()\n\u001b[1;32m     22\u001b[0m plt\u001b[38;5;241m.\u001b[39mplot(Pt1\u001b[38;5;241m.\u001b[39mx,Pt1\u001b[38;5;241m.\u001b[39my,\u001b[38;5;124m'\u001b[39m\u001b[38;5;124mro\u001b[39m\u001b[38;5;124m'\u001b[39m)\n\u001b[1;32m     23\u001b[0m plt\u001b[38;5;241m.\u001b[39mplot(Pt2\u001b[38;5;241m.\u001b[39mx,Pt2\u001b[38;5;241m.\u001b[39my,\u001b[38;5;124m'\u001b[39m\u001b[38;5;124mb*\u001b[39m\u001b[38;5;124m'\u001b[39m)\n",
      "\u001b[0;31mNameError\u001b[0m: name 'plt' is not defined"
     ]
    }
   ],
   "source": [
    "import math\n",
    "class Point:\n",
    "    def __init__(self, x, y, t):\n",
    "        self.x = x\n",
    "        self.y = y\n",
    "        self.t = t\n",
    "    def diffusion_distance(self, K):\n",
    "        return math.sqrt(K * self.t)\n",
    "# Create point objects P1, P2, P3\n",
    "Pt1 = Point(0,1,1)\n",
    "Pt2 = Point(1,0,2)\n",
    "Pt3 = Point(2,3,2)\n",
    "\n",
    "print(f'Members of P1: ({Pt1.x},{Pt1.y},{Pt1.t})')\n",
    "\n",
    "# Solve diffusion distance\n",
    "dist1 = Pt1.diffusion_distance(2.5)\n",
    "print('Calculate diffusion distance of P1:', dist1)\n",
    "\n",
    "# Plot P1,P2,P3\n",
    "plt.clf()\n",
    "plt.plot(Pt1.x,Pt1.y,'ro')\n",
    "plt.plot(Pt2.x,Pt2.y,'b*')\n",
    "plt.plot(Pt3.x,Pt3.y,'k+')\n",
    "plt.grid()"
   ]
  },
  {
   "cell_type": "code",
   "execution_count": null,
   "metadata": {
    "deletable": false,
    "editable": false,
    "tags": [
     "skip-execution"
    ]
   },
   "outputs": [
    {
     "data": {
      "text/html": [
       "<p><strong style='color: red;'><pre style='display: inline;'>task1-Point-class</pre> results:</strong></p><p><strong><pre style='display: inline;'>task1-Point-class - 1</pre> result:</strong></p><pre>    ❌ Test case failed\n",
       "    Trying:\n",
       "        import numpy as np\n",
       "    Expecting nothing\n",
       "    ok\n",
       "    Trying:\n",
       "        import drexel_jupyter_logger\n",
       "    Expecting nothing\n",
       "    **********************************************************************\n",
       "    Line 3, in task1-Point-class 0\n",
       "    Failed example:\n",
       "        import drexel_jupyter_logger\n",
       "    Exception raised:\n",
       "        Traceback (most recent call last):\n",
       "          File \"/opt/tljh/user/lib/python3.9/doctest.py\", line 1336, in __run\n",
       "            exec(compile(example.source, filename, \"single\",\n",
       "          File \"<doctest task1-Point-class 0[1]>\", line 1, in <module>\n",
       "            import drexel_jupyter_logger\n",
       "        ModuleNotFoundError: No module named 'drexel_jupyter_logger'\n",
       "    Trying:\n",
       "        P = Point(1,2,3)\n",
       "    Expecting nothing\n",
       "    ok\n",
       "    Trying:\n",
       "        drexel_jupyter_logger.variable_logger(P)\n",
       "    Expecting nothing\n",
       "    **********************************************************************\n",
       "    Line 6, in task1-Point-class 0\n",
       "    Failed example:\n",
       "        drexel_jupyter_logger.variable_logger(P)\n",
       "    Exception raised:\n",
       "        Traceback (most recent call last):\n",
       "          File \"/opt/tljh/user/lib/python3.9/doctest.py\", line 1336, in __run\n",
       "            exec(compile(example.source, filename, \"single\",\n",
       "          File \"<doctest task1-Point-class 0[3]>\", line 1, in <module>\n",
       "            drexel_jupyter_logger.variable_logger(P)\n",
       "        NameError: name 'drexel_jupyter_logger' is not defined\n",
       "    Trying:\n",
       "        assert np.all(np.isclose(P.x, 1) )\n",
       "    Expecting nothing\n",
       "    ok\n",
       "</pre><p><strong><pre style='display: inline;'>task1-Point-class - 2</pre> result:</strong></p><pre>    ❌ Test case failed\n",
       "    Trying:\n",
       "        import numpy as np\n",
       "    Expecting nothing\n",
       "    ok\n",
       "    Trying:\n",
       "        P = Point(1,2,3)\n",
       "    Expecting nothing\n",
       "    ok\n",
       "    Trying:\n",
       "        import drexel_jupyter_logger\n",
       "    Expecting nothing\n",
       "    **********************************************************************\n",
       "    Line 6, in task1-Point-class 1\n",
       "    Failed example:\n",
       "        import drexel_jupyter_logger\n",
       "    Exception raised:\n",
       "        Traceback (most recent call last):\n",
       "          File \"/opt/tljh/user/lib/python3.9/doctest.py\", line 1336, in __run\n",
       "            exec(compile(example.source, filename, \"single\",\n",
       "          File \"<doctest task1-Point-class 1[2]>\", line 1, in <module>\n",
       "            import drexel_jupyter_logger\n",
       "        ModuleNotFoundError: No module named 'drexel_jupyter_logger'\n",
       "    Trying:\n",
       "        drexel_jupyter_logger.variable_logger(P)\n",
       "    Expecting nothing\n",
       "    **********************************************************************\n",
       "    Line 7, in task1-Point-class 1\n",
       "    Failed example:\n",
       "        drexel_jupyter_logger.variable_logger(P)\n",
       "    Exception raised:\n",
       "        Traceback (most recent call last):\n",
       "          File \"/opt/tljh/user/lib/python3.9/doctest.py\", line 1336, in __run\n",
       "            exec(compile(example.source, filename, \"single\",\n",
       "          File \"<doctest task1-Point-class 1[3]>\", line 1, in <module>\n",
       "            drexel_jupyter_logger.variable_logger(P)\n",
       "        NameError: name 'drexel_jupyter_logger' is not defined\n",
       "    Trying:\n",
       "        assert np.all(np.isclose(P.y, 2) )\n",
       "    Expecting nothing\n",
       "    ok\n",
       "</pre><p><strong><pre style='display: inline;'>task1-Point-class - 3</pre> result:</strong></p><pre>    ❌ Test case failed\n",
       "    Trying:\n",
       "        import numpy as np\n",
       "    Expecting nothing\n",
       "    ok\n",
       "    Trying:\n",
       "        P = Point(1,2,3)\n",
       "    Expecting nothing\n",
       "    ok\n",
       "    Trying:\n",
       "        import drexel_jupyter_logger\n",
       "    Expecting nothing\n",
       "    **********************************************************************\n",
       "    Line 7, in task1-Point-class 2\n",
       "    Failed example:\n",
       "        import drexel_jupyter_logger\n",
       "    Exception raised:\n",
       "        Traceback (most recent call last):\n",
       "          File \"/opt/tljh/user/lib/python3.9/doctest.py\", line 1336, in __run\n",
       "            exec(compile(example.source, filename, \"single\",\n",
       "          File \"<doctest task1-Point-class 2[2]>\", line 1, in <module>\n",
       "            import drexel_jupyter_logger\n",
       "        ModuleNotFoundError: No module named 'drexel_jupyter_logger'\n",
       "    Trying:\n",
       "        drexel_jupyter_logger.variable_logger(P.t)\n",
       "    Expecting nothing\n",
       "    **********************************************************************\n",
       "    Line 8, in task1-Point-class 2\n",
       "    Failed example:\n",
       "        drexel_jupyter_logger.variable_logger(P.t)\n",
       "    Exception raised:\n",
       "        Traceback (most recent call last):\n",
       "          File \"/opt/tljh/user/lib/python3.9/doctest.py\", line 1336, in __run\n",
       "            exec(compile(example.source, filename, \"single\",\n",
       "          File \"<doctest task1-Point-class 2[3]>\", line 1, in <module>\n",
       "            drexel_jupyter_logger.variable_logger(P.t)\n",
       "        NameError: name 'drexel_jupyter_logger' is not defined\n",
       "    Trying:\n",
       "        assert np.all(np.isclose(P.t, 3) )\n",
       "    Expecting nothing\n",
       "    ok\n",
       "</pre><p><strong><pre style='display: inline;'>task1-Point-class - 4</pre> result:</strong></p><pre>    ❌ Test case failed\n",
       "    Trying:\n",
       "        import numpy as np\n",
       "    Expecting nothing\n",
       "    ok\n",
       "    Trying:\n",
       "        P = Point(1,2,3)\n",
       "    Expecting nothing\n",
       "    ok\n",
       "    Trying:\n",
       "        answer = P.diffusion_distance(0)\n",
       "    Expecting nothing\n",
       "    ok\n",
       "    Trying:\n",
       "        import drexel_jupyter_logger\n",
       "    Expecting nothing\n",
       "    **********************************************************************\n",
       "    Line 7, in task1-Point-class 3\n",
       "    Failed example:\n",
       "        import drexel_jupyter_logger\n",
       "    Exception raised:\n",
       "        Traceback (most recent call last):\n",
       "          File \"/opt/tljh/user/lib/python3.9/doctest.py\", line 1336, in __run\n",
       "            exec(compile(example.source, filename, \"single\",\n",
       "          File \"<doctest task1-Point-class 3[3]>\", line 1, in <module>\n",
       "            import drexel_jupyter_logger\n",
       "        ModuleNotFoundError: No module named 'drexel_jupyter_logger'\n",
       "    Trying:\n",
       "        drexel_jupyter_logger.variable_logger(answer)\n",
       "    Expecting nothing\n",
       "    **********************************************************************\n",
       "    Line 8, in task1-Point-class 3\n",
       "    Failed example:\n",
       "        drexel_jupyter_logger.variable_logger(answer)\n",
       "    Exception raised:\n",
       "        Traceback (most recent call last):\n",
       "          File \"/opt/tljh/user/lib/python3.9/doctest.py\", line 1336, in __run\n",
       "            exec(compile(example.source, filename, \"single\",\n",
       "          File \"<doctest task1-Point-class 3[4]>\", line 1, in <module>\n",
       "            drexel_jupyter_logger.variable_logger(answer)\n",
       "        NameError: name 'drexel_jupyter_logger' is not defined\n",
       "    Trying:\n",
       "        assert np.all(np.isclose(answer, 0))\n",
       "    Expecting nothing\n",
       "    ok\n",
       "</pre><p><strong><pre style='display: inline;'>task1-Point-class - 5</pre> result:</strong></p><pre>    ❌ Test case failed\n",
       "    Trying:\n",
       "        import numpy as np\n",
       "    Expecting nothing\n",
       "    ok\n",
       "    Trying:\n",
       "        P = Point(1,2,3)\n",
       "    Expecting nothing\n",
       "    ok\n",
       "    Trying:\n",
       "        answer = P.diffusion_distance(4)\n",
       "    Expecting nothing\n",
       "    ok\n",
       "    Trying:\n",
       "        import drexel_jupyter_logger\n",
       "    Expecting nothing\n",
       "    **********************************************************************\n",
       "    Line 7, in task1-Point-class 4\n",
       "    Failed example:\n",
       "        import drexel_jupyter_logger\n",
       "    Exception raised:\n",
       "        Traceback (most recent call last):\n",
       "          File \"/opt/tljh/user/lib/python3.9/doctest.py\", line 1336, in __run\n",
       "            exec(compile(example.source, filename, \"single\",\n",
       "          File \"<doctest task1-Point-class 4[3]>\", line 1, in <module>\n",
       "            import drexel_jupyter_logger\n",
       "        ModuleNotFoundError: No module named 'drexel_jupyter_logger'\n",
       "    Trying:\n",
       "        drexel_jupyter_logger.variable_logger(answer)\n",
       "    Expecting nothing\n",
       "    **********************************************************************\n",
       "    Line 8, in task1-Point-class 4\n",
       "    Failed example:\n",
       "        drexel_jupyter_logger.variable_logger(answer)\n",
       "    Exception raised:\n",
       "        Traceback (most recent call last):\n",
       "          File \"/opt/tljh/user/lib/python3.9/doctest.py\", line 1336, in __run\n",
       "            exec(compile(example.source, filename, \"single\",\n",
       "          File \"<doctest task1-Point-class 4[4]>\", line 1, in <module>\n",
       "            drexel_jupyter_logger.variable_logger(answer)\n",
       "        NameError: name 'drexel_jupyter_logger' is not defined\n",
       "    Trying:\n",
       "        assert np.all(np.isclose(answer, 6.928203230275509))\n",
       "    Expecting nothing\n",
       "    **********************************************************************\n",
       "    Line 10, in task1-Point-class 4\n",
       "    Failed example:\n",
       "        assert np.all(np.isclose(answer, 6.928203230275509))\n",
       "    Exception raised:\n",
       "        Traceback (most recent call last):\n",
       "          File \"/opt/tljh/user/lib/python3.9/doctest.py\", line 1336, in __run\n",
       "            exec(compile(example.source, filename, \"single\",\n",
       "          File \"<doctest task1-Point-class 4[5]>\", line 1, in <module>\n",
       "            assert np.all(np.isclose(answer, 6.928203230275509))\n",
       "        AssertionError\n",
       "</pre>"
      ],
      "text/plain": [
       "task1-Point-class results:\n",
       "    task1-Point-class - 1 result:\n",
       "        ❌ Test case failed\n",
       "        Trying:\n",
       "            import numpy as np\n",
       "        Expecting nothing\n",
       "        ok\n",
       "        Trying:\n",
       "            import drexel_jupyter_logger\n",
       "        Expecting nothing\n",
       "        **********************************************************************\n",
       "        Line 3, in task1-Point-class 0\n",
       "        Failed example:\n",
       "            import drexel_jupyter_logger\n",
       "        Exception raised:\n",
       "            Traceback (most recent call last):\n",
       "              File \"/opt/tljh/user/lib/python3.9/doctest.py\", line 1336, in __run\n",
       "                exec(compile(example.source, filename, \"single\",\n",
       "              File \"<doctest task1-Point-class 0[1]>\", line 1, in <module>\n",
       "                import drexel_jupyter_logger\n",
       "            ModuleNotFoundError: No module named 'drexel_jupyter_logger'\n",
       "        Trying:\n",
       "            P = Point(1,2,3)\n",
       "        Expecting nothing\n",
       "        ok\n",
       "        Trying:\n",
       "            drexel_jupyter_logger.variable_logger(P)\n",
       "        Expecting nothing\n",
       "        **********************************************************************\n",
       "        Line 6, in task1-Point-class 0\n",
       "        Failed example:\n",
       "            drexel_jupyter_logger.variable_logger(P)\n",
       "        Exception raised:\n",
       "            Traceback (most recent call last):\n",
       "              File \"/opt/tljh/user/lib/python3.9/doctest.py\", line 1336, in __run\n",
       "                exec(compile(example.source, filename, \"single\",\n",
       "              File \"<doctest task1-Point-class 0[3]>\", line 1, in <module>\n",
       "                drexel_jupyter_logger.variable_logger(P)\n",
       "            NameError: name 'drexel_jupyter_logger' is not defined\n",
       "        Trying:\n",
       "            assert np.all(np.isclose(P.x, 1) )\n",
       "        Expecting nothing\n",
       "        ok\n",
       "\n",
       "    task1-Point-class - 2 result:\n",
       "        ❌ Test case failed\n",
       "        Trying:\n",
       "            import numpy as np\n",
       "        Expecting nothing\n",
       "        ok\n",
       "        Trying:\n",
       "            P = Point(1,2,3)\n",
       "        Expecting nothing\n",
       "        ok\n",
       "        Trying:\n",
       "            import drexel_jupyter_logger\n",
       "        Expecting nothing\n",
       "        **********************************************************************\n",
       "        Line 6, in task1-Point-class 1\n",
       "        Failed example:\n",
       "            import drexel_jupyter_logger\n",
       "        Exception raised:\n",
       "            Traceback (most recent call last):\n",
       "              File \"/opt/tljh/user/lib/python3.9/doctest.py\", line 1336, in __run\n",
       "                exec(compile(example.source, filename, \"single\",\n",
       "              File \"<doctest task1-Point-class 1[2]>\", line 1, in <module>\n",
       "                import drexel_jupyter_logger\n",
       "            ModuleNotFoundError: No module named 'drexel_jupyter_logger'\n",
       "        Trying:\n",
       "            drexel_jupyter_logger.variable_logger(P)\n",
       "        Expecting nothing\n",
       "        **********************************************************************\n",
       "        Line 7, in task1-Point-class 1\n",
       "        Failed example:\n",
       "            drexel_jupyter_logger.variable_logger(P)\n",
       "        Exception raised:\n",
       "            Traceback (most recent call last):\n",
       "              File \"/opt/tljh/user/lib/python3.9/doctest.py\", line 1336, in __run\n",
       "                exec(compile(example.source, filename, \"single\",\n",
       "              File \"<doctest task1-Point-class 1[3]>\", line 1, in <module>\n",
       "                drexel_jupyter_logger.variable_logger(P)\n",
       "            NameError: name 'drexel_jupyter_logger' is not defined\n",
       "        Trying:\n",
       "            assert np.all(np.isclose(P.y, 2) )\n",
       "        Expecting nothing\n",
       "        ok\n",
       "\n",
       "    task1-Point-class - 3 result:\n",
       "        ❌ Test case failed\n",
       "        Trying:\n",
       "            import numpy as np\n",
       "        Expecting nothing\n",
       "        ok\n",
       "        Trying:\n",
       "            P = Point(1,2,3)\n",
       "        Expecting nothing\n",
       "        ok\n",
       "        Trying:\n",
       "            import drexel_jupyter_logger\n",
       "        Expecting nothing\n",
       "        **********************************************************************\n",
       "        Line 7, in task1-Point-class 2\n",
       "        Failed example:\n",
       "            import drexel_jupyter_logger\n",
       "        Exception raised:\n",
       "            Traceback (most recent call last):\n",
       "              File \"/opt/tljh/user/lib/python3.9/doctest.py\", line 1336, in __run\n",
       "                exec(compile(example.source, filename, \"single\",\n",
       "              File \"<doctest task1-Point-class 2[2]>\", line 1, in <module>\n",
       "                import drexel_jupyter_logger\n",
       "            ModuleNotFoundError: No module named 'drexel_jupyter_logger'\n",
       "        Trying:\n",
       "            drexel_jupyter_logger.variable_logger(P.t)\n",
       "        Expecting nothing\n",
       "        **********************************************************************\n",
       "        Line 8, in task1-Point-class 2\n",
       "        Failed example:\n",
       "            drexel_jupyter_logger.variable_logger(P.t)\n",
       "        Exception raised:\n",
       "            Traceback (most recent call last):\n",
       "              File \"/opt/tljh/user/lib/python3.9/doctest.py\", line 1336, in __run\n",
       "                exec(compile(example.source, filename, \"single\",\n",
       "              File \"<doctest task1-Point-class 2[3]>\", line 1, in <module>\n",
       "                drexel_jupyter_logger.variable_logger(P.t)\n",
       "            NameError: name 'drexel_jupyter_logger' is not defined\n",
       "        Trying:\n",
       "            assert np.all(np.isclose(P.t, 3) )\n",
       "        Expecting nothing\n",
       "        ok\n",
       "\n",
       "    task1-Point-class - 4 result:\n",
       "        ❌ Test case failed\n",
       "        Trying:\n",
       "            import numpy as np\n",
       "        Expecting nothing\n",
       "        ok\n",
       "        Trying:\n",
       "            P = Point(1,2,3)\n",
       "        Expecting nothing\n",
       "        ok\n",
       "        Trying:\n",
       "            answer = P.diffusion_distance(0)\n",
       "        Expecting nothing\n",
       "        ok\n",
       "        Trying:\n",
       "            import drexel_jupyter_logger\n",
       "        Expecting nothing\n",
       "        **********************************************************************\n",
       "        Line 7, in task1-Point-class 3\n",
       "        Failed example:\n",
       "            import drexel_jupyter_logger\n",
       "        Exception raised:\n",
       "            Traceback (most recent call last):\n",
       "              File \"/opt/tljh/user/lib/python3.9/doctest.py\", line 1336, in __run\n",
       "                exec(compile(example.source, filename, \"single\",\n",
       "              File \"<doctest task1-Point-class 3[3]>\", line 1, in <module>\n",
       "                import drexel_jupyter_logger\n",
       "            ModuleNotFoundError: No module named 'drexel_jupyter_logger'\n",
       "        Trying:\n",
       "            drexel_jupyter_logger.variable_logger(answer)\n",
       "        Expecting nothing\n",
       "        **********************************************************************\n",
       "        Line 8, in task1-Point-class 3\n",
       "        Failed example:\n",
       "            drexel_jupyter_logger.variable_logger(answer)\n",
       "        Exception raised:\n",
       "            Traceback (most recent call last):\n",
       "              File \"/opt/tljh/user/lib/python3.9/doctest.py\", line 1336, in __run\n",
       "                exec(compile(example.source, filename, \"single\",\n",
       "              File \"<doctest task1-Point-class 3[4]>\", line 1, in <module>\n",
       "                drexel_jupyter_logger.variable_logger(answer)\n",
       "            NameError: name 'drexel_jupyter_logger' is not defined\n",
       "        Trying:\n",
       "            assert np.all(np.isclose(answer, 0))\n",
       "        Expecting nothing\n",
       "        ok\n",
       "\n",
       "    task1-Point-class - 5 result:\n",
       "        ❌ Test case failed\n",
       "        Trying:\n",
       "            import numpy as np\n",
       "        Expecting nothing\n",
       "        ok\n",
       "        Trying:\n",
       "            P = Point(1,2,3)\n",
       "        Expecting nothing\n",
       "        ok\n",
       "        Trying:\n",
       "            answer = P.diffusion_distance(4)\n",
       "        Expecting nothing\n",
       "        ok\n",
       "        Trying:\n",
       "            import drexel_jupyter_logger\n",
       "        Expecting nothing\n",
       "        **********************************************************************\n",
       "        Line 7, in task1-Point-class 4\n",
       "        Failed example:\n",
       "            import drexel_jupyter_logger\n",
       "        Exception raised:\n",
       "            Traceback (most recent call last):\n",
       "              File \"/opt/tljh/user/lib/python3.9/doctest.py\", line 1336, in __run\n",
       "                exec(compile(example.source, filename, \"single\",\n",
       "              File \"<doctest task1-Point-class 4[3]>\", line 1, in <module>\n",
       "                import drexel_jupyter_logger\n",
       "            ModuleNotFoundError: No module named 'drexel_jupyter_logger'\n",
       "        Trying:\n",
       "            drexel_jupyter_logger.variable_logger(answer)\n",
       "        Expecting nothing\n",
       "        **********************************************************************\n",
       "        Line 8, in task1-Point-class 4\n",
       "        Failed example:\n",
       "            drexel_jupyter_logger.variable_logger(answer)\n",
       "        Exception raised:\n",
       "            Traceback (most recent call last):\n",
       "              File \"/opt/tljh/user/lib/python3.9/doctest.py\", line 1336, in __run\n",
       "                exec(compile(example.source, filename, \"single\",\n",
       "              File \"<doctest task1-Point-class 4[4]>\", line 1, in <module>\n",
       "                drexel_jupyter_logger.variable_logger(answer)\n",
       "            NameError: name 'drexel_jupyter_logger' is not defined\n",
       "        Trying:\n",
       "            assert np.all(np.isclose(answer, 6.928203230275509))\n",
       "        Expecting nothing\n",
       "        **********************************************************************\n",
       "        Line 10, in task1-Point-class 4\n",
       "        Failed example:\n",
       "            assert np.all(np.isclose(answer, 6.928203230275509))\n",
       "        Exception raised:\n",
       "            Traceback (most recent call last):\n",
       "              File \"/opt/tljh/user/lib/python3.9/doctest.py\", line 1336, in __run\n",
       "                exec(compile(example.source, filename, \"single\",\n",
       "              File \"<doctest task1-Point-class 4[5]>\", line 1, in <module>\n",
       "                assert np.all(np.isclose(answer, 6.928203230275509))\n",
       "            AssertionError"
      ]
     },
     "execution_count": 16,
     "metadata": {},
     "output_type": "execute_result"
    }
   ],
   "source": [
    "grader.check(\"task1-Point-class\")"
   ]
  },
  {
   "cell_type": "markdown",
   "metadata": {
    "deletable": false,
    "editable": false
   },
   "source": [
    "## Task 2: Make a class to triangulate between 3 points\n",
    "\n",
    "In the previous task, we determined how to calculate the distance between a point and a pollutant source, given diffusion constant $K$ and time $t$. How can we use this information to find the location of a pollutant source?\n",
    "\n",
    "**Intro to Triangulation** \n",
    "\n",
    "Triangulation is the process of locating an unknown point given two know points, and two known distances.\n",
    "\n",
    "Consider two points $(x_1,y_1)$ and $(x_2,y_2$).\n",
    "\n",
    "Let $(x,y)$ be an unknown point whose respective distances to the two points, $d_1$ and $d_2$, are known. The Pythagorean theorem allows us to express $x$ and $y$ (the coordinates of the unknown point) in terms of $(x_1,y_1)$, $(x_2,y_2)$, $d_1$, and $d_2$:\n",
    "\n",
    "$$ d_1^{2} = (x - x_1)^{2} + (y - y_1)^{2}$$\n",
    "\n",
    "$$ d_2^{2} = (x - x_2)^{2} + (y - y_2)^{2}$$\n",
    "\n",
    "\n",
    "Inverting these two formulae to make them explicit in $x$ and $y$ is really a lot of fun, but it takes a while. Here is the final result:\n",
    "\n",
    "$$ x_{\\pm} = \\frac{1}{2(1 + b^2)} \\left[ 2 [x_1 - b(a - y_1)] \\pm [4(b(a - y_1) - x_1)^2 - 4(1 + b^2)(x_1^{2} - d_1^{2} + (y_1 - a)^{2})]^{\\frac{1}{2}} \\right] $$\n",
    "\n",
    "$$ y_{\\pm} = a + bx_{\\pm} $$\n",
    "\n",
    "where\n",
    "\n",
    "$$ a = \\frac{d_1^{2} - d_2^{2} - [(x_1^{2} + y_1^{2}) - (x_2^{2} + y_2^{2})]}{2(y_2 - y_1)} $$\n",
    "\n",
    "and \n",
    "\n",
    "$$ b = - \\frac{x_2 - x_1}{y_2 - y_1} $$\n",
    "\n",
    "Note that the two possible values for $x$, $x_+$ and $x_-$, arise from the positive and negative sense of the square root, and the value of $y$ derives from its particular $x$. So because of the power of 2 in the Pythagorean theorem, we find that there are **two possible points**, $(x_+, y_+)$ and $(x_-, y_-)$, that are each $d_1$ from $(x_1, y_1)$ and $d_2$ from $(x_2, y_2)$. These are shown by the star and cross in the figure below.\n",
    "\n",
    "\"Triangulation\" refers to the fact that we need a **third** known point to decide which of $(x_+, y_+)$ and $(x_-, y_-)$ is our sought-after point. We would like the final unknown point to be the one that is closer to $(x_3, y_3)$, shown as the star in the figure below:\n",
    "\n",
    "<div>\n",
    "<img src=\"https://raw.githubusercontent.com/DrexelEngineering/ENGR131_W2023/main/jupyterbook/week9/lab8/Triangulation4.PNG\" width=\"400\"/>\n",
    "<div>\n",
    "    \n",
    "Write a python code to do the following:\n",
    "* Create a class `Point_System`\n",
    "* Define the class constructor to accept as argument the Point objects `P1`,`P2`, and `P3`, in that order. Store each value in a data member, so that they can be used in other methods. \n",
    "* Define a method called `pythagoras` which accepts as input and `x1,y1,x2,y2`. This method should return the euclidean distance between the two points.\n",
    "* Define a method called `a_b` which accepts as input the distances between a point and `self.P1` and `self.P2`, as `d1` and `d2` respectively. This method should return the tuple `a,b`, calculated with the equation above.\n",
    "* Define a method called `x_y` which accepts as input the distances between a point and `self.P1` and `self.P2`, as `d1` and `d2` respectively. This method should return the tuple `xm,ym,xp,yp`, which are the \"minus\" coordinates `(xm,ym)` and \"plus\" coordinates `(xp,yp)` of a point, calculated with the equation above. \n",
    "* Define a method called `triangulate` which accepts as input the distances between a point and `self.P1` and `self.P2`, as `d1` and `d2` respectively. This method should return the tuple `xf,yf`, the coordinate closest to the third point, `self.P3`.\n",
    "    1. Calculate the potential coordinates of a point the distance `d1` from point `self.P1`, and distance `d2` from `self.P2` using the method we defined, `x_y`.  Assign this to the variables `xm,ym,xp,yp`.\n",
    "    2. Assign a variable `d3m` to be the distance between the estimated \"minus\" coordinate `xm,ym` and the point `self.P3`\n",
    "    3. Assign a variable `d3p` to be the distance between the estimated \"plus\" coordinate `xp,yp` and the point `self.P3`\n",
    "    4. Check whether `d3m` or `d3p` is smaller. Set the corresponding $(x,y)$ coordinates to variables `xf,yf`\n",
    "    5. Return the final triangulated coordinates, `xf,yf`.\n",
    "\n",
    "Your code replaces the prompt:  `...`"
   ]
  },
  {
   "cell_type": "code",
   "execution_count": null,
   "metadata": {
    "tags": [
     "skip-execution"
    ]
   },
   "outputs": [],
   "source": [
    "...\n",
    "    \n",
    "# create Point object P1, P2, P3\n",
    "Pt1 = Point(0,1,1)\n",
    "Pt2 = Point(1,0,2)\n",
    "Pt3 = Point(2,3,2)\n",
    "\n",
    "# Create Point_System object System, using P1, P2, P3 as inputs\n",
    "System = Point_System(Pt1,Pt2,Pt3)\n",
    "\n",
    "# Plot points Point_System objects P1, P2, P3\n",
    "plt.clf()\n",
    "plt.plot(System.P1.x,System.P1.y,'ro')\n",
    "plt.plot(System.P2.x,System.P2.y,'b*')\n",
    "plt.plot(System.P3.x,System.P3.y,'k+')\n",
    "plt.grid()"
   ]
  },
  {
   "cell_type": "code",
   "execution_count": null,
   "metadata": {
    "deletable": false,
    "editable": false,
    "tags": [
     "skip-execution"
    ]
   },
   "outputs": [],
   "source": [
    "grader.check(\"task2-System-class\")"
   ]
  },
  {
   "cell_type": "markdown",
   "metadata": {
    "deletable": false,
    "editable": false
   },
   "source": [
    "## Task 3: Predict location of pollutant and diffusivity\n",
    "\n",
    "Our system consists of three points, $P_1=(-4,7), P_2=(-5,-6), P_3=(9,1)$, and a pollution source with unknown coordinates and diffusion coefficient $K$. After the release of the chemical, the pollution peaked at the three points at times $300,400,500$ respectively. We want to estimate $K$ and the coordinates of the pollutant.\n",
    "\n",
    "We can achieve this using an iterative process that slowly modifies K by multiplying it by a change factor $\\epsilon$, and recalculates the predicted coordinates. The process will repeat until K is modified by less than a factor of $10^{-6}$ (In other words, the code runs if $|K-K\\epsilon|>K10^{-6}$). Write a code to do the following:\n",
    "\n",
    "* Create `Point` objects `P1`, `P2` and `P3`, initialized with the coordinates and times given above\n",
    "* Create a `Point_System` object `Sys` initialized with point objects `P1`, `P2` and `P3`.\n",
    "* We are satisfied with our guess when K changes by less than a factor of $10^{-6}$ per iteration. Assign this value to variable `criteria`. This variable will not change!\n",
    "* Assign 1.0 as our initial guess of `K`\n",
    "* Assign `criteria` $10^{-6}$ as our initial change factor, `epsilon`\n",
    "* Write a loop that runs until K is modified by less than a factor of $10^{-6}$. Inside, the loop performs the following steps:\n",
    "  1. Compute the distances of `d1`, `d2`, and `d3` with the given values of K.\n",
    "  2. Use triangulation to find the points `xf,yf`, which are the correct distance from P1 and P2, and closest to P3.\n",
    "  3. Compute the distance `d3_`, which is the distance between `(xf,yf)` and `P3`.\n",
    "  4. Calculate our change factor `epsilon` using the following equation: $\\epsilon=\\sqrt{d_{3\\ guess}/d_{3\\ true}}$.\n",
    "  5. print the values of `d3_`, `d3`, `epsilon`, and `K`.\n",
    "  6. Change $K$ to $K\\epsilon$.\n",
    "\n",
    "Your code replaces the prompt:  `...`\n"
   ]
  },
  {
   "cell_type": "code",
   "execution_count": null,
   "metadata": {
    "tags": [
     "skip-execution"
    ]
   },
   "outputs": [],
   "source": [
    "# Define Variables\n",
    "...\n",
    "\n",
    "# create loop that modifies K\n",
    "...\n",
    "\n",
    "# Print the estimated diffusivity\n",
    "print(f'Diffusivity of X is about {K**2:.3f}')\n",
    "# Print the estimated location of the point source\n",
    "print(f'Pollutant point source is ({xf:.3f},{yf:.3f})')"
   ]
  },
  {
   "cell_type": "code",
   "execution_count": null,
   "metadata": {
    "deletable": false,
    "editable": false,
    "tags": [
     "skip-execution"
    ]
   },
   "outputs": [],
   "source": [
    "grader.check(\"task3-predict\")"
   ]
  },
  {
   "cell_type": "markdown",
   "metadata": {
    "deletable": false,
    "editable": false
   },
   "source": [
    "Take a look at the points and the pollutant source"
   ]
  },
  {
   "cell_type": "code",
   "execution_count": null,
   "metadata": {
    "tags": [
     "skip-execution"
    ]
   },
   "outputs": [],
   "source": [
    "import matplotlib.pyplot as plt\n",
    "\n",
    "plt.clf()\n",
    "plt.xlim([min([P1.x,P2.x,P3.x,xf])-1,max([P1.x,P2.x,P3.x,xf])+1])\n",
    "plt.ylim([min([P1.y,P2.y,P3.y,yf])-1,max([P1.y,P2.y,P3.y,yf])+1])\n",
    "plt.plot(P1.x,P1.y,'bo')\n",
    "plt.plot(P2.x,P2.y,'go')\n",
    "plt.plot(P3.x,P3.y,'co')\n",
    "plt.plot(xf,yf,'ro')\n",
    "\n",
    "plt.plot([P1.x,xf],[P1.y,yf],'k-')\n",
    "plt.plot([P2.x,xf],[P2.y,yf],'k-')\n",
    "plt.plot([P3.x,xf],[P3.y,yf],'k-')\n",
    "\n",
    "plt.annotate('P1',xy=(P1.x,P1.y))\n",
    "plt.annotate('P2',xy=(P2.x,P2.y))\n",
    "plt.annotate('P3',xy=(P3.x,P3.y))\n",
    "plt.annotate('pollutant point source',xy=(xf,yf))\n",
    "plt.show()\n"
   ]
  }
 ],
 "metadata": {
  "kernelspec": {
   "display_name": "",
   "name": ""
  },
  "language_info": {
   "name": ""
  },
  "otter": {
   "OK_FORMAT": true,
   "tests": {
    "task1-Point-class": {
     "name": "task1-Point-class",
     "points": null,
     "suites": [
      {
       "cases": [
        {
         "code": ">>> \n>>> import numpy as np\n>>> import drexel_jupyter_logger\n>>> \n>>> P = Point(1,2,3)\n>>> drexel_jupyter_logger.variable_logger(P)\n>>> assert np.all(np.isclose(P.x, 1) )\n",
         "hidden": false,
         "locked": false,
         "points": 1,
         "success_message": "Point.x is correct."
        },
        {
         "code": ">>> \n>>> import numpy as np\n>>> \n>>> P = Point(1,2,3)\n>>> \n>>> import drexel_jupyter_logger\n>>> drexel_jupyter_logger.variable_logger(P)\n>>> \n>>> assert np.all(np.isclose(P.y, 2) )\n",
         "hidden": false,
         "locked": false,
         "points": 1,
         "success_message": "Point.y is correct."
        },
        {
         "code": ">>> \n>>> \n>>> import numpy as np\n>>> \n>>> P = Point(1,2,3)\n>>> \n>>> import drexel_jupyter_logger\n>>> drexel_jupyter_logger.variable_logger(P.t)\n>>> \n>>> assert np.all(np.isclose(P.t, 3) )\n",
         "hidden": false,
         "locked": false,
         "points": 1,
         "success_message": "Point.t is correct."
        },
        {
         "code": ">>> \n>>> import numpy as np\n>>> \n>>> P = Point(1,2,3)\n>>> answer = P.diffusion_distance(0)\n>>> \n>>> import drexel_jupyter_logger\n>>> drexel_jupyter_logger.variable_logger(answer)\n>>> \n>>> assert np.all(np.isclose(answer, 0))\n",
         "hidden": false,
         "locked": false,
         "points": 2,
         "success_message": "P.diffusion_distance(0) is correct."
        },
        {
         "code": ">>> \n>>> import numpy as np\n>>> \n>>> P = Point(1,2,3)\n>>> answer = P.diffusion_distance(4)\n>>> \n>>> import drexel_jupyter_logger\n>>> drexel_jupyter_logger.variable_logger(answer)\n>>> \n>>> assert np.all(np.isclose(answer, 6.928203230275509))\n",
         "hidden": false,
         "locked": false,
         "points": 2,
         "success_message": "P.diffusion_distance(4) is correct."
        }
       ],
       "scored": true,
       "setup": "",
       "teardown": "",
       "type": "doctest"
      }
     ]
    },
    "task2-System-class": {
     "name": "task2-System-class",
     "points": null,
     "suites": [
      {
       "cases": [
        {
         "code": ">>> \n>>> import numpy as np\n>>> \n>>> P_Sys = Point_System(Point(0,1,1),Point(1,0,2),Point(2,3,2))\n>>> \n>>> import drexel_jupyter_logger\n>>> drexel_jupyter_logger.variable_logger(P_Sys)\n>>> \n>>> assert np.all(np.isclose((P_Sys.P1.x,P_Sys.P1.y,P_Sys.P1.t), (0,1,1)) )\n",
         "hidden": false,
         "locked": false,
         "points": 1,
         "success_message": "Point_System.P1.x is correct."
        },
        {
         "code": ">>> \n>>> import numpy as np\n>>> \n>>> P_Sys = Point_System(Point(0,1,1),Point(1,0,2),Point(2,3,2))\n>>> \n>>> import drexel_jupyter_logger\n>>> drexel_jupyter_logger.variable_logger(P_Sys)\n>>> \n>>> assert np.all(np.isclose((P_Sys.P2.x,P_Sys.P2.y,P_Sys.P2.t), (1,0,2)) )\n",
         "hidden": false,
         "locked": false,
         "points": 1,
         "success_message": "Point_System.P1.y is correct."
        },
        {
         "code": ">>> \n>>> \n>>> import numpy as np\n>>> \n>>> P_Sys = Point_System(Point(0,1,1),Point(1,0,2),Point(2,3,2))\n>>> \n>>> import drexel_jupyter_logger\n>>> drexel_jupyter_logger.variable_logger(P_Sys)\n>>> \n>>> assert np.all(np.isclose((P_Sys.P3.x,P_Sys.P3.y,P_Sys.P3.t), (2,3,2)) )\n",
         "hidden": false,
         "locked": false,
         "points": 1,
         "success_message": "Point_System.P1.t is correct."
        },
        {
         "code": ">>> \n>>> import numpy as np\n>>> \n>>> P_Sys = Point_System(Point(0,1,1),Point(1,0,2),Point(2,3,2))\n>>> answer = P_Sys.pythagoras(0,0,0,0)\n>>> \n>>> import drexel_jupyter_logger\n>>> drexel_jupyter_logger.variable_logger(answer)\n>>> \n>>> assert np.all(np.isclose(answer, 0))\n",
         "hidden": false,
         "locked": false,
         "points": 1,
         "success_message": "Point_System.pythagoras(0,0,0,0) is correct."
        },
        {
         "code": ">>> \n>>> import numpy as np\n>>> \n>>> P_Sys = Point_System(Point(0,1,1),Point(1,0,2),Point(2,3,2))\n>>> answer = P_Sys.pythagoras(-2,3,4,1)\n>>> \n>>> import drexel_jupyter_logger\n>>> drexel_jupyter_logger.variable_logger(answer)\n>>> \n>>> assert np.all(np.isclose(answer, 6.324555320336759))\n",
         "hidden": false,
         "locked": false,
         "points": 1,
         "success_message": "Point_System.pythagoras(-2,3,4,1) is correct."
        },
        {
         "code": ">>> \n>>> import numpy as np\n>>> \n>>> P_Sys = Point_System(Point(0,1,1),Point(1,0,2),Point(2,3,2))\n>>> answer = P_Sys.a_b(1,2)\n>>> \n>>> import drexel_jupyter_logger\n>>> drexel_jupyter_logger.variable_logger(answer)\n>>> \n>>> assert np.all(np.isclose(answer, (1.5, 1.0)))\n",
         "hidden": false,
         "locked": false,
         "points": 1,
         "success_message": "Point_System.a_b(1,2) is correct."
        },
        {
         "code": ">>> \n>>> import numpy as np\n>>> \n>>> P_Sys = Point_System(Point(0,1,1),Point(1,0,2),Point(2,3,2))\n>>> answer = P_Sys.a_b(3,.6)\n>>> \n>>> import drexel_jupyter_logger\n>>> drexel_jupyter_logger.variable_logger(answer)\n>>> \n>>> assert np.all(np.isclose(answer, (-4.32, 1.0)))\n",
         "hidden": false,
         "locked": false,
         "points": 1,
         "success_message": "Point_System.a_b(3,.6) is correct."
        },
        {
         "code": ">>> \n>>> import numpy as np\n>>> \n>>> P_Sys = Point_System(Point(0,1,1),Point(1,0,2),Point(2,3,2))\n>>> answer = P_Sys.x_y(1,2)\n>>> \n>>> import drexel_jupyter_logger\n>>> drexel_jupyter_logger.variable_logger(answer)\n>>> \n>>> assert np.all(np.isclose(answer, (-0.9114378277661477, 0.5885621722338523, 0.4114378277661477, 1.9114378277661477)))\n",
         "hidden": false,
         "locked": false,
         "points": 1,
         "success_message": "Point_System.x_y(1,2) is correct."
        },
        {
         "code": ">>> \n>>> import numpy as np\n>>> \n>>> P_Sys = Point_System(Point(0,1,1),Point(1,0,2),Point(2,3,2))\n>>> answer = P_Sys.x_y(3,2.5)\n>>> \n>>> import drexel_jupyter_logger\n>>> drexel_jupyter_logger.variable_logger(answer)\n>>> \n>>> assert np.all(np.isclose(answer, (-0.5702951388031541, -1.945295138803154, 2.945295138803154, 1.570295138803154) ))\n",
         "hidden": false,
         "locked": false,
         "points": 1,
         "success_message": "Point_System.x_y(3,2.5) is correct."
        },
        {
         "code": ">>> \n>>> import numpy as np\n>>> \n>>> P_Sys = Point_System(Point(0,1,1),Point(1,0,2),Point(2,3,2))\n>>> answer = P_Sys.triangulate(1,2)\n>>> \n>>> import drexel_jupyter_logger\n>>> drexel_jupyter_logger.variable_logger(answer)\n>>> \n>>> assert np.all(np.isclose(answer, (0.4114378277661477, 1.9114378277661477) ))\n",
         "hidden": false,
         "locked": false,
         "points": 1,
         "success_message": "Point_System.triangulate(1,2) is correct."
        },
        {
         "code": ">>> \n>>> import numpy as np\n>>> \n>>> P_Sys = Point_System(Point(0,1,1),Point(1,0,2),Point(2,3,2))\n>>> answer = P_Sys.triangulate(3,2.5)\n>>> \n>>> import drexel_jupyter_logger\n>>> drexel_jupyter_logger.variable_logger(answer)\n>>> \n>>> assert np.all(np.isclose(answer, (2.945295138803154, 1.570295138803154) ))\n",
         "hidden": false,
         "locked": false,
         "points": 1,
         "success_message": "Point_System.triangulate(3,.6) is correct."
        }
       ],
       "scored": true,
       "setup": "",
       "teardown": "",
       "type": "doctest"
      }
     ]
    },
    "task3-predict": {
     "name": "task3-predict",
     "points": null,
     "suites": [
      {
       "cases": [
        {
         "code": ">>> \n>>> import numpy as np\n>>> \n>>> import drexel_jupyter_logger\n>>> \n>>> drexel_jupyter_logger.variable_logger(P1.x)\n>>> drexel_jupyter_logger.variable_logger(P1.y)\n>>> drexel_jupyter_logger.variable_logger(P1.t)\n>>> \n>>> # P1,P2,P3 = Point(-4,7,300),Point(-5,-6,400),Point(9,1,500)\n>>> # Sys = Point_System(P1,P2,P3)\n>>> \n>>> assert np.all(np.isclose((P1.x,P1.y,P1.t),(-4,7,300))) and\\\n...         np.all(np.isclose((P2.x,P2.y,P2.t),(-5,-6,400))) and\\\n...         np.all(np.isclose((P3.x,P3.y,P3.t),(9,1,500)))\n",
         "hidden": false,
         "locked": false,
         "points": 1,
         "success_message": "Point_System.P1.x is correct."
        },
        {
         "code": ">>> \n>>> import numpy as np\n>>> import drexel_jupyter_logger\n>>> \n>>> # P1,P2,P3 = Point(-4,7,300),Point(-5,-6,400),Point(9,1,500)\n>>> # Sys = Point_System(P1,P2,P3)\n>>> \n>>> drexel_jupyter_logger.variable_logger(Sys)\n>>> \n>>> assert np.all(np.isclose((Sys.P1.x,Sys.P1.y,Sys.P1.t),(-4,7,300))) and\\\n...         np.all(np.isclose((Sys.P2.x,Sys.P2.y,Sys.P2.t),(-5,-6,400))) and\\\n...         np.all(np.isclose((Sys.P3.x,Sys.P3.y,Sys.P3.t),(9,1,500)))\n",
         "hidden": false,
         "locked": false,
         "points": 1,
         "success_message": "Point_System.P1.y is correct."
        },
        {
         "code": ">>> \n>>> \n>>> import numpy as np\n>>> import drexel_jupyter_logger\n>>> drexel_jupyter_logger.variable_logger(d3_)\n>>> \n>>> \n>>> assert np.all(np.isclose((d3_,d3,epsilon,K),(9.287116394970834,9.287105071075722,1.0000006096567,0.4153319650621666)) )\n",
         "hidden": false,
         "locked": false,
         "points": 8,
         "success_message": "loop construction is correct."
        }
       ],
       "scored": true,
       "setup": "",
       "teardown": "",
       "type": "doctest"
      }
     ]
    }
   }
  },
  "varInspector": {
   "cols": {
    "lenName": 16,
    "lenType": 16,
    "lenVar": 40
   },
   "kernels_config": {
    "python": {
     "delete_cmd_postfix": "",
     "delete_cmd_prefix": "del ",
     "library": "var_list.py",
     "varRefreshCmd": "print(var_dic_list())"
    },
    "r": {
     "delete_cmd_postfix": ") ",
     "delete_cmd_prefix": "rm(",
     "library": "var_list.r",
     "varRefreshCmd": "cat(var_dic_list()) "
    }
   },
   "types_to_exclude": [
    "module",
    "function",
    "builtin_function_or_method",
    "instance",
    "_Feature"
   ],
   "window_display": false
  },
  "vscode": {
   "interpreter": {
    "hash": "d5b418e505f4528d10acf0213fd49b7bcb757f0a07f8b53d30dfcb3b049c93cc"
   }
  }
 },
 "nbformat": 4,
 "nbformat_minor": 4
}
